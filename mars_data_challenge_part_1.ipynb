{
 "cells": [
  {
   "cell_type": "code",
   "execution_count": 1,
   "id": "287c3beb",
   "metadata": {},
   "outputs": [],
   "source": [
    "import pandas as pd\n",
    "import requests\n",
    "import time\n",
    "from splinter import Browser\n",
    "from bs4 import BeautifulSoup as bs\n",
    "from webdriver_manager.chrome import ChromeDriverManager\n",
    "import json"
   ]
  },
  {
   "cell_type": "code",
   "execution_count": 2,
   "id": "540787f9",
   "metadata": {},
   "outputs": [],
   "source": [
    "# Set up Splinter\n",
    "\n",
    "executable_path = {'executable_path': ChromeDriverManager().install()}\n",
    "browser = Browser('chrome', **executable_path, headless=False)"
   ]
  },
  {
   "cell_type": "code",
   "execution_count": 3,
   "id": "50674457",
   "metadata": {},
   "outputs": [],
   "source": [
    "# Visit the following URL\n",
    "\n",
    "url = \"https://redplanetscience.com/\"\n",
    "browser.visit(url)"
   ]
  },
  {
   "cell_type": "code",
   "execution_count": 4,
   "id": "ebfa0bcc",
   "metadata": {},
   "outputs": [],
   "source": [
    "html = browser.html\n",
    "soup = bs(html, \"html.parser\")\n",
    "# soup"
   ]
  },
  {
   "cell_type": "code",
   "execution_count": 5,
   "id": "a3dcd671",
   "metadata": {},
   "outputs": [],
   "source": [
    "# Scrape all div's with the list_text class.\n",
    "# This will give us a list of all articles text\n",
    "articles = soup.find_all(\"div\", class_=\"list_text\")"
   ]
  },
  {
   "cell_type": "code",
   "execution_count": 6,
   "id": "944918a2",
   "metadata": {},
   "outputs": [
    {
     "name": "stdout",
     "output_type": "stream",
     "text": [
      "[\n",
      "    {\n",
      "        \"title\": \"Meet the People Behind NASA's Perseverance Rover\",\n",
      "        \"preview\": \"These are the scientists and engineers who built NASA's next Mars rover and who will guide it to a safe landing in Jezero Crater.\"\n",
      "    },\n",
      "    {\n",
      "        \"title\": \"Mars Scientists Investigate Ancient Life in Australia\",\n",
      "        \"preview\": \"Teams with NASA's Mars 2020 and ESA's ExoMars practiced hunting for fossilized microbial life in the Australian Outback in preparation for their Red Planet missions.\"\n",
      "    },\n",
      "    {\n",
      "        \"title\": \"Follow NASA's Perseverance Rover in Real Time on Its Way to Mars\",\n",
      "        \"preview\": \"A crisply rendered web application can show you where the agency's Mars 2020 mission is right now as it makes its way to the Red Planet for a Feb. 18, 2021, landing.\"\n",
      "    },\n",
      "    {\n",
      "        \"title\": \"NASA, ULA Launch Mars 2020 Perseverance Rover Mission to Red Planet\",\n",
      "        \"preview\": \"The agency's Mars 2020 mission is on its way. It will land at Jezero Crater in about seven months, on Feb. 18, 2021.\"\n",
      "    },\n",
      "    {\n",
      "        \"title\": \"InSight's 'Mole' Team Peers into the Pit\",\n",
      "        \"preview\": \"Efforts to save the heat probe continue.\"\n",
      "    },\n",
      "    {\n",
      "        \"title\": \"The Launch Is Approaching for NASA's Next Mars Rover, Perseverance\",\n",
      "        \"preview\": \"The Red Planet's surface has been visited by eight NASA spacecraft. The ninth will be the first that includes a roundtrip ticket in its flight plan.\"\n",
      "    },\n",
      "    {\n",
      "        \"title\": \"NASA's Treasure Map for Water Ice on Mars\",\n",
      "        \"preview\": \"A new study identifies frozen water just below the Martian surface, where astronauts could easily dig it up.\"\n",
      "    },\n",
      "    {\n",
      "        \"title\": \"Screening Soon: 'The Pathfinders' Trains Lens on Mars\",\n",
      "        \"preview\": \"With the Mars 2020 mission ramping up, the documentary \\u2014 the first of four about past JPL missions to the Red Planet to be shown at Caltech \\u2014 tells a gripping backstory.\"\n",
      "    },\n",
      "    {\n",
      "        \"title\": \"Naming a NASA Mars Rover Can Change Your Life\",\n",
      "        \"preview\": \"Want to name the robotic scientist NASA is sending to Mars in 2020? The student who named Curiosity \\u2014 the rover currently exploring Mars \\u2014 will tell you this is an opportunity worth taking.\"\n",
      "    },\n",
      "    {\n",
      "        \"title\": \"MOXIE Could Help Future Rockets Launch Off Mars\",\n",
      "        \"preview\": \"NASA's Perseverance rover carries a device to convert Martian air into oxygen that, if produced on a larger scale, could be used not just for breathing, but also for fuel.\"\n",
      "    },\n",
      "    {\n",
      "        \"title\": \"NASA's Mars Rover Drivers Need Your Help\",\n",
      "        \"preview\": \"Using an online tool to label Martian terrain types, you can train an artificial intelligence algorithm that could improve the way engineers guide the Curiosity rover.\"\n",
      "    },\n",
      "    {\n",
      "        \"title\": \"NASA's Curiosity Mars Rover Snaps Its Highest-Resolution Panorama Yet\",\n",
      "        \"preview\": \"To go along with the stunning 1.8-billion-pixel image, a new video offers a sweeping view of the Red Planet.\"\n",
      "    },\n",
      "    {\n",
      "        \"title\": \"NASA's Mars 2020 Heads Into the Test Chamber\",\n",
      "        \"preview\": \"In this time-lapse video taken at JPL, engineers move the Mars 2020 rover into a large vacuum chamber for testing in Mars-like environmental conditions.\"\n",
      "    },\n",
      "    {\n",
      "        \"title\": \"NASA's Curiosity Rover Finds an Ancient Oasis on Mars\",\n",
      "        \"preview\": \"New evidence suggests salty, shallow ponds once dotted a Martian crater \\u2014 a sign of the planet's drying climate.\"\n",
      "    },\n",
      "    {\n",
      "        \"title\": \"The Man Who Wanted to Fly on Mars\",\n",
      "        \"preview\": \"The Mars Helicopter is riding to the Red Planet this summer with NASA's Perseverance rover. The helicopter's chief engineer, Bob Balaram, shares the saga of how it came into being.\"\n",
      "    }\n",
      "]\n"
     ]
    }
   ],
   "source": [
    "# Create empty dictionary and list\n",
    "data = {}\n",
    "mars_news = []\n",
    "\n",
    "# Iterate through each article\n",
    "for row in articles:\n",
    "    # Use Beautiful Soup's find() method to navigate and retrieve attributes\n",
    "    title = row.find('div', class_='content_title').text\n",
    "    preview = row.find('div', class_='article_teaser_body').text.rstrip()\n",
    "    data[\"title\"] = title\n",
    "    data[\"preview\"] = preview\n",
    "    \n",
    "    #print(preview)\n",
    "    # Add dictionary to a list\n",
    "    mars_news.append(data)\n",
    "    \n",
    "    # reset dictionary\n",
    "    data = {}\n",
    "\n",
    "# Print output using json.dumps for clearer viewing\n",
    "print(json.dumps(mars_news,sort_keys=False, indent=4))"
   ]
  },
  {
   "cell_type": "code",
   "execution_count": 7,
   "id": "6523ac2c",
   "metadata": {},
   "outputs": [],
   "source": [
    "latest_news = soup.find_all(\"div\", class_=\"content_title\")[0]\n"
   ]
  },
  {
   "cell_type": "code",
   "execution_count": 8,
   "id": "8bc17178",
   "metadata": {},
   "outputs": [
    {
     "data": {
      "text/plain": [
       "\"Meet the People Behind NASA's Perseverance Rover\""
      ]
     },
     "execution_count": 8,
     "metadata": {},
     "output_type": "execute_result"
    }
   ],
   "source": [
    "latest_news_title = latest_news.text\n",
    "latest_news_title"
   ]
  },
  {
   "cell_type": "code",
   "execution_count": 9,
   "id": "e32cac52",
   "metadata": {},
   "outputs": [],
   "source": [
    "paragraph = soup.find_all(\"div\", class_=\"article_teaser_body\")[0]"
   ]
  },
  {
   "cell_type": "code",
   "execution_count": 10,
   "id": "070c2847",
   "metadata": {
    "scrolled": true
   },
   "outputs": [
    {
     "data": {
      "text/plain": [
       "\"These are the scientists and engineers who built NASA's next Mars rover and who will guide it to a safe landing in Jezero Crater. \""
      ]
     },
     "execution_count": 10,
     "metadata": {},
     "output_type": "execute_result"
    }
   ],
   "source": [
    "latest_news_paragraph = paragraph.text\n",
    "latest_news_paragraph\n"
   ]
  },
  {
   "cell_type": "code",
   "execution_count": 11,
   "id": "6ad4dc0d",
   "metadata": {},
   "outputs": [],
   "source": [
    "browser.quit()"
   ]
  },
  {
   "cell_type": "code",
   "execution_count": 12,
   "id": "e7669093",
   "metadata": {},
   "outputs": [],
   "source": [
    "# Save results as a json file\n",
    "with open('results/mars_news.json', 'w') as fout:\n",
    "    json.dump(mars_news , fout)"
   ]
  },
  {
   "cell_type": "code",
   "execution_count": null,
   "id": "cc219c0d",
   "metadata": {},
   "outputs": [],
   "source": []
  }
 ],
 "metadata": {
  "kernelspec": {
   "display_name": "Python 3.9.12 ('base')",
   "language": "python",
   "name": "python3"
  },
  "language_info": {
   "codemirror_mode": {
    "name": "ipython",
    "version": 3
   },
   "file_extension": ".py",
   "mimetype": "text/x-python",
   "name": "python",
   "nbconvert_exporter": "python",
   "pygments_lexer": "ipython3",
   "version": "3.9.12"
  },
  "vscode": {
   "interpreter": {
    "hash": "5e14eda821f37e22babc73d45118af132eda7a577e6965266a794e0a9c2fc8e7"
   }
  }
 },
 "nbformat": 4,
 "nbformat_minor": 5
}
